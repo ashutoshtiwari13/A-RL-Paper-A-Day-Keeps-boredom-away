{
 "cells": [
  {
   "cell_type": "markdown",
   "metadata": {},
   "source": [
    "## Paper : Deep Reinforcement Learning with Double Q-learning\n"
   ]
  },
  {
   "cell_type": "markdown",
   "metadata": {},
   "source": [
    "### Main focus"
   ]
  },
  {
   "cell_type": "markdown",
   "metadata": {},
   "source": [
    "Challenges the Q-learning algorithms on grounds of overestimation of action values under certain conditions and provides reasons/solutions for the same. Establishes a *Double Q-learning Algorihtm* (earlier used for tabular settings) and extrapolates it to large-sclae function approximations.\n",
    "\n",
    "Goal : Extend the work done by van hasselt et al., named Double Q-learning for the tabular setting to work with arbitrary function approximators , including deep NN, naming it as Double DQN."
   ]
  },
  {
   "cell_type": "markdown",
   "metadata": {},
   "source": [
    "### Problems Idenified"
   ]
  },
  {
   "cell_type": "markdown",
   "metadata": {},
   "source": [
    "- Q-learning sometimes learn unrealistically high action values because it includes a maximization step over estimated action values, which tends to prefer overestimated to underestimated values. These can lead to insufficient function approximations and unwanted noise.\n",
    "- Though being optimistic about action values is a well-known exploration technique( Kaelbling et al., 1996) , being over optimistuc i.e when the action values are over estimated non-uniformaly and not concentrated at the states about which we want to learn, they might negatively effect the quality of the resulting policy ."
   ]
  },
  {
   "cell_type": "code",
   "execution_count": null,
   "metadata": {},
   "outputs": [],
   "source": []
  },
  {
   "cell_type": "code",
   "execution_count": null,
   "metadata": {},
   "outputs": [],
   "source": []
  }
 ],
 "metadata": {
  "kernelspec": {
   "display_name": "Python 3",
   "language": "python",
   "name": "python3"
  },
  "language_info": {
   "codemirror_mode": {
    "name": "ipython",
    "version": 3
   },
   "file_extension": ".py",
   "mimetype": "text/x-python",
   "name": "python",
   "nbconvert_exporter": "python",
   "pygments_lexer": "ipython3",
   "version": "3.7.3"
  }
 },
 "nbformat": 4,
 "nbformat_minor": 2
}
