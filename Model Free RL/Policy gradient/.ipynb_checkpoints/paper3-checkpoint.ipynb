{
 "cells": [
  {
   "cell_type": "markdown",
   "metadata": {},
   "source": [
    "## Paper : High-Dimensional Continuous Control Using Generalized Advantage Estimation"
   ]
  },
  {
   "cell_type": "markdown",
   "metadata": {},
   "source": [
    "### Main Focus\n",
    "\n",
    "The paper efficiently handles the problem of requiring large number of samples by using value functions to substantially reduce the variance of policy gradient estimates and also addresses the second challenge to provide stable and steady improvement by using Trust region optimization procedure for both policy and value function.\n",
    "\n",
    "The paper introduces a family of gradient estimators that reduce variance(a problem in earlier methods) and also maintians a tolerable level of bias (problem in actor-critic methods). They call it as GAE(Generalized advantage estimator) parameterized over $\\lambda \\in [0,1]$  and $\\gamma \\in [0,1]$\n",
    "\n",
    "Goal : This paper considers algorithms that optimize a parameterized policy and use value functions to help estimate how the policy should be improved.\n"
   ]
  },
  {
   "cell_type": "markdown",
   "metadata": {},
   "source": [
    "### Challenges/Problems Identified\n",
    "\n",
    "- The variance of the gradient estimates of the expected total returns obtained from running a parameterized stochastic policy scales unfavourably.\n",
    "- In actor-critic methods , which use value functions instead of emperical returns , obtains an estimator with lower variance but at the cost of bias\n",
    "\n",
    "While high variance necessitates using more samples, bias is more pernicious—even with an unlimited number of samples, bias can cause the algorithm to fail to converge, or to converge to a poor solution that is not even a local optimum.\n"
   ]
  },
  {
   "cell_type": "code",
   "execution_count": null,
   "metadata": {},
   "outputs": [],
   "source": []
  }
 ],
 "metadata": {
  "kernelspec": {
   "display_name": "Python 3",
   "language": "python",
   "name": "python3"
  },
  "language_info": {
   "codemirror_mode": {
    "name": "ipython",
    "version": 3
   },
   "file_extension": ".py",
   "mimetype": "text/x-python",
   "name": "python",
   "nbconvert_exporter": "python",
   "pygments_lexer": "ipython3",
   "version": "3.7.3"
  }
 },
 "nbformat": 4,
 "nbformat_minor": 2
}
