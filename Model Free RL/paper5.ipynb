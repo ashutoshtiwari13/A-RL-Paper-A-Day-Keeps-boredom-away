{
 "cells": [
  {
   "cell_type": "markdown",
   "metadata": {},
   "source": [
    "## Paper -  Prioritized Experience Replay "
   ]
  },
  {
   "cell_type": "markdown",
   "metadata": {},
   "source": [
    "### Main Focus"
   ]
  },
  {
   "cell_type": "markdown",
   "metadata": {},
   "source": [
    "Prioritize useful experiences , so as to replay important transitions more frequently , and learn more efficiently.\n",
    "\n",
    "Goal : The paper demonstrates how prioritizing which transitionns are replayed can make experience replay more efficient and effective that if all transitions are replayed uniformly. This is based on the idea than teh agent can learn more effectively from some transitions than from others.\n"
   ]
  },
  {
   "cell_type": "markdown",
   "metadata": {},
   "source": [
    "### Problems Idenitfied\n"
   ]
  },
  {
   "cell_type": "markdown",
   "metadata": {},
   "source": [
    "- Experience replay lets online RL agents remember and reuse experinces from the past .In past these experience transitions were uniformly sampled from a replay memory.\n",
    "- Some experinces can not be immediately useful to the agent , but mught bceome so when the agent competeance increases."
   ]
  },
  {
   "cell_type": "markdown",
   "metadata": {},
   "source": [
    "### Related literature"
   ]
  },
  {
   "cell_type": "markdown",
   "metadata": {},
   "source": [
    "- Experiences with high magnitude TD error also are replayed more often \n",
    "- Prioritized sweeping (Moore & Atkeson, 1993; Andre et al., 1998) selects which state to update next, prioritized according to the change in value, if that update was executed.The TD error provides one way to measure these priorities\n",
    "- TD-errors have also been used as a prioritization mechanism for determining where to focus resources, for example when choosing where to explore (White et al., 2014) or which features to select"
   ]
  },
  {
   "cell_type": "markdown",
   "metadata": {},
   "source": [
    "## Important parts \n",
    "\n",
    "### Prioritizing with TD -error\n",
    "- The magnitude of transitions TD error $\\delta$ , which is an indicator of how'surprising' or unexpected a transition was, which can help measure the importance of each transition. NOte: TD error can be a poor estimate in some circumstances where rewards are noisy\n",
    "- The 'greedy TD-error prioritization' algorithm stores the last encountered TD error along with each transition in the replay memory and the transition with the largest absolute TD error is replayed from the memory.\n",
    "\n",
    "### Stochastic Prioritization\n",
    "- The above algorithm has issues of transitions that have low TD error on first visit nt being repalyed for a long time as to avoid expensive sweeps over the entire replay memory, the TD erros are only updated for the transitions that are replayed.\n",
    "- Secondly , the above algorithm is sensitive to noise spikes , which can be made worse by bootstrapping where apporaximation errors become another source of noise.\n",
    "\n",
    "- To overcome these issues, a stochastic sampling method is introduced that interpolates between pure greedy prioritization and uniform random sampling\n",
    "- The first variant we consider is the direct, proportional prioritization where $\\mathcal{p}_i = |\\delta_i| + \\epsilon$, where $\\epsilon$ is a small positive constant that prevents the edge-case of transitions not being revisited once their error is zero. The second variant is an indirect, rank-based prioritization where $\\mathcal{p}_{i}=1/\\mathcal{rank(i)}$, where rank(i) is the rank of transition i when the replay memory is sorted according to |δi|.\n",
    "- Both variants of stochastic prioritization lead to large speed-ups over the uniform baseline"
   ]
  },
  {
   "cell_type": "code",
   "execution_count": null,
   "metadata": {},
   "outputs": [],
   "source": []
  }
 ],
 "metadata": {
  "kernelspec": {
   "display_name": "Python 3",
   "language": "python",
   "name": "python3"
  },
  "language_info": {
   "codemirror_mode": {
    "name": "ipython",
    "version": 3
   },
   "file_extension": ".py",
   "mimetype": "text/x-python",
   "name": "python",
   "nbconvert_exporter": "python",
   "pygments_lexer": "ipython3",
   "version": "3.7.3"
  }
 },
 "nbformat": 4,
 "nbformat_minor": 2
}
